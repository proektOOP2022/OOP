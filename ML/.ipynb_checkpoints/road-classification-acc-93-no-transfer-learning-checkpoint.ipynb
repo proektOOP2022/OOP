{
 "cells": [
  {
   "cell_type": "markdown",
   "metadata": {},
   "source": [
    "# Discription\n",
    "\n",
    "In this data i have classified 4 types of roads which are good, poor, satisfactory and very poor using CNN. Upvote if you like my work.\n",
    "Now lets get Started:"
   ]
  },
  {
   "cell_type": "markdown",
   "metadata": {},
   "source": [
    "# First i am going to split data in x and y."
   ]
  },
  {
   "cell_type": "code",
   "execution_count": 1,
   "metadata": {
    "_cell_guid": "adaa2ecf-81c3-475d-bd43-f91b28fc94b3",
    "_uuid": "02c57467-c9d5-4caf-8a33-0d02a63c9f23"
   },
   "outputs": [],
   "source": [
    "import os\n",
    "import cv2\n",
    "\n",
    "data_dir =  \"../input/road-damage-classification-and-assessment/sih_road_dataset\"\n",
    "labels = [\"good\", \"poor\", \"satisfactory\", \"very_poor\"]\n",
    "x = []\n",
    "y = []\n",
    "for label in labels:\n",
    "    data = os.path.join(data_dir,label)\n",
    "    for image in os.listdir(data):\n",
    "        try:\n",
    "            im = cv2.imread(os.path.join(data,image),cv2.IMREAD_COLOR)\n",
    "            im = cv2.resize(im,(224,224))\n",
    "            # Using the Canny filter with different parameters\n",
    "            \n",
    "            x.append(im)\n",
    "            y.append(labels.index(label))\n",
    "            \n",
    "            \n",
    "        except Exception as e:\n",
    "            pass"
   ]
  },
  {
   "cell_type": "code",
   "execution_count": 2,
   "metadata": {},
   "outputs": [
    {
     "data": {
      "text/plain": [
       "2074"
      ]
     },
     "execution_count": 2,
     "metadata": {},
     "output_type": "execute_result"
    }
   ],
   "source": [
    "# Just checking the legth of x and y\n",
    "len(x)        \n",
    "len(y)"
   ]
  },
  {
   "cell_type": "markdown",
   "metadata": {},
   "source": [
    "# Changing list to array and rescaling the Data"
   ]
  },
  {
   "cell_type": "code",
   "execution_count": 3,
   "metadata": {},
   "outputs": [],
   "source": [
    "import numpy as np\n",
    "np.unique(y)\n",
    "np.unique(x)\n",
    "\n",
    "x = np.array(x)/255.0\n",
    "y = np.array(y)\n",
    "\n",
    "x.shape\n",
    "y.shape\n",
    "\n",
    "x = x.reshape(-1, 224, 224, 3)\n",
    "x.shape\n",
    "y = y.reshape(-1, 1)"
   ]
  },
  {
   "cell_type": "markdown",
   "metadata": {},
   "source": [
    "# Turning y labels to categorical and Analysing Images"
   ]
  },
  {
   "cell_type": "code",
   "execution_count": 4,
   "metadata": {},
   "outputs": [],
   "source": [
    "from tensorflow.keras.utils import to_categorical\n",
    "\n",
    "y = to_categorical(y,4,)\n",
    "\n",
    "from tensorflow.keras.preprocessing.image import ImageDataGenerator\n",
    "\n",
    "datagenerator = ImageDataGenerator(\n",
    "fill_mode= 'nearest',\n",
    "horizontal_flip=False,\n",
    "vertical_flip=False,\n",
    "shear_range=0.1,\n",
    "zoom_range = 0.1, # Randomly zoom image \n",
    "width_shift_range=0.2,  # randomly shift images horizontally (fraction of total width)\n",
    "height_shift_range=0.2\n",
    ")\n",
    "datagenerator.fit(x)"
   ]
  },
  {
   "cell_type": "markdown",
   "metadata": {},
   "source": [
    "# Splitting Data into train and test"
   ]
  },
  {
   "cell_type": "code",
   "execution_count": 5,
   "metadata": {},
   "outputs": [],
   "source": [
    "from sklearn.model_selection import train_test_split\n",
    "x_train,x_test,y_train,y_test = train_test_split(x,y)"
   ]
  },
  {
   "cell_type": "markdown",
   "metadata": {},
   "source": [
    "# Using CNN (Convolutional neural Network)"
   ]
  },
  {
   "cell_type": "code",
   "execution_count": 6,
   "metadata": {},
   "outputs": [],
   "source": [
    "import tensorflow as tf\n",
    "model = tf.keras.Sequential([\n",
    "tf.keras.layers.Conv2D(32,(5,5),padding ='same',strides=(2,2),activation='relu',input_shape=(224,224,3)),\n",
    "tf.keras.layers.MaxPooling2D((2,2)),\n",
    "tf.keras.layers.Conv2D(64,(5,5),padding ='same',strides=(2,2),activation='relu'),\n",
    "tf.keras.layers.MaxPooling2D((2,2)),\n",
    "tf.keras.layers.Conv2D(128,(5,5),padding ='same',strides=(2,2),activation='relu'),\n",
    "tf.keras.layers.MaxPooling2D((2,2)),\n",
    "tf.keras.layers.Conv2D(128,(5,5),padding ='same',strides=(2,2),activation='relu'),\n",
    "tf.keras.layers.Flatten(),\n",
    "tf.keras.layers.Dense(256,activation='relu'),\n",
    "tf.keras.layers.Dropout(0.3),\n",
    "    \n",
    "tf.keras.layers.Dense(4,activation='softmax')\n",
    "])\n",
    "\n",
    "model.compile(optimizer='adam',loss='categorical_crossentropy',metrics=['accuracy'])"
   ]
  },
  {
   "cell_type": "markdown",
   "metadata": {},
   "source": [
    "# Using early stopping and training the model\n",
    "\n",
    "#### Note: EarlyStopping stop the model from overfitting."
   ]
  },
  {
   "cell_type": "code",
   "execution_count": 7,
   "metadata": {},
   "outputs": [
    {
     "name": "stdout",
     "output_type": "stream",
     "text": [
      "Epoch 1/20\n",
      "49/49 [==============================] - 27s 472ms/step - loss: 1.0958 - accuracy: 0.4767 - val_loss: 0.4576 - val_accuracy: 0.8227\n",
      "Epoch 2/20\n",
      "49/49 [==============================] - 23s 473ms/step - loss: 0.4875 - accuracy: 0.8228 - val_loss: 0.3209 - val_accuracy: 0.8709\n",
      "Epoch 3/20\n",
      "49/49 [==============================] - 23s 472ms/step - loss: 0.3855 - accuracy: 0.8548 - val_loss: 0.2705 - val_accuracy: 0.8998\n",
      "Epoch 4/20\n",
      "49/49 [==============================] - 23s 464ms/step - loss: 0.3844 - accuracy: 0.8430 - val_loss: 0.2435 - val_accuracy: 0.9249\n",
      "Epoch 5/20\n",
      "49/49 [==============================] - 23s 470ms/step - loss: 0.3130 - accuracy: 0.8807 - val_loss: 0.3418 - val_accuracy: 0.8671\n",
      "Epoch 6/20\n",
      "49/49 [==============================] - 24s 492ms/step - loss: 0.3747 - accuracy: 0.8687 - val_loss: 0.2887 - val_accuracy: 0.9229\n",
      "Epoch 7/20\n",
      "49/49 [==============================] - 23s 480ms/step - loss: 0.2771 - accuracy: 0.9046 - val_loss: 0.2119 - val_accuracy: 0.9229\n",
      "Epoch 8/20\n",
      "49/49 [==============================] - 23s 470ms/step - loss: 0.2944 - accuracy: 0.8815 - val_loss: 0.1684 - val_accuracy: 0.9306\n",
      "Epoch 9/20\n",
      "49/49 [==============================] - 24s 489ms/step - loss: 0.2363 - accuracy: 0.9112 - val_loss: 0.2565 - val_accuracy: 0.8979\n",
      "Epoch 10/20\n",
      "49/49 [==============================] - 24s 484ms/step - loss: 0.2602 - accuracy: 0.9049 - val_loss: 0.1899 - val_accuracy: 0.9383\n",
      "Epoch 11/20\n",
      "49/49 [==============================] - 23s 479ms/step - loss: 0.2194 - accuracy: 0.9177 - val_loss: 0.2045 - val_accuracy: 0.9171\n",
      "Epoch 12/20\n",
      "49/49 [==============================] - 23s 469ms/step - loss: 0.2212 - accuracy: 0.9178 - val_loss: 0.1926 - val_accuracy: 0.9306\n"
     ]
    },
    {
     "data": {
      "text/plain": [
       "<tensorflow.python.keras.callbacks.History at 0x7fada803d990>"
      ]
     },
     "execution_count": 7,
     "metadata": {},
     "output_type": "execute_result"
    }
   ],
   "source": [
    "earlystop = tf.keras.callbacks.EarlyStopping(monitor='val_loss',patience=4,restore_best_weights=True)\n",
    "\n",
    "model.fit(datagenerator.flow(x_train,y_train,batch_size=32),epochs=20,callbacks=[earlystop],validation_data=datagenerator.flow(x_test,y_test))"
   ]
  },
  {
   "cell_type": "markdown",
   "metadata": {},
   "source": [
    "# Plotting loss|val_loss to see if model overfitting or not\n",
    "\n",
    "#### Note: If val_loss is higher then loss it means model is overfitting."
   ]
  },
  {
   "cell_type": "code",
   "execution_count": 8,
   "metadata": {},
   "outputs": [
    {
     "data": {
      "text/plain": [
       "<AxesSubplot:>"
      ]
     },
     "execution_count": 8,
     "metadata": {},
     "output_type": "execute_result"
    },
    {
     "data": {
      "image/png": "[encoded data removed]",
      "text/plain": [
       "<Figure size 432x288 with 1 Axes>"
      ]
     },
     "metadata": {
      "needs_background": "light"
     },
     "output_type": "display_data"
    }
   ],
   "source": [
    "import pandas as pd\n",
    "history = pd.DataFrame(model.history.history)\n",
    "history[[\"loss\", \"val_loss\"]].plot()"
   ]
  },
  {
   "cell_type": "markdown",
   "metadata": {},
   "source": [
    "# At last evaluating the model to check accuracy"
   ]
  },
  {
   "cell_type": "code",
   "execution_count": 9,
   "metadata": {},
   "outputs": [
    {
     "name": "stdout",
     "output_type": "stream",
     "text": [
      "17/17 [==============================] - 0s 13ms/step - loss: 0.1918 - accuracy: 0.9306\n"
     ]
    },
    {
     "data": {
      "text/plain": [
       "[0.19184617698192596, 0.9306358098983765]"
      ]
     },
     "execution_count": 9,
     "metadata": {},
     "output_type": "execute_result"
    }
   ],
   "source": [
    "model.evaluate(x_test, y_test)"
   ]
  },
  {
   "cell_type": "markdown",
   "metadata": {},
   "source": [
    "# And here is the Prediction of road"
   ]
  },
  {
   "cell_type": "code",
   "execution_count": 10,
   "metadata": {},
   "outputs": [],
   "source": [
    "from PIL import Image\n",
    "def convert_to_array(img):\n",
    "    im = cv2.imread(img)\n",
    "    img = Image.fromarray(im, 'RGB')\n",
    "    image = img.resize((224, 224))\n",
    "    return np.array(image)"
   ]
  },
  {
   "cell_type": "code",
   "execution_count": 11,
   "metadata": {},
   "outputs": [],
   "source": [
    "def get_profile_name(label):\n",
    "    if label==0:\n",
    "        return \"Good\"\n",
    "    if label==1:\n",
    "        return \"Poor\"\n",
    "    if label==2:\n",
    "        return \"Satisfactory\"\n",
    "    if label==3:\n",
    "        return \"Very_Poor\""
   ]
  },
  {
   "cell_type": "code",
   "execution_count": 12,
   "metadata": {},
   "outputs": [],
   "source": [
    "def predict_profile(file):\n",
    "    print(\"Predicting .................................\")\n",
    "    ar=convert_to_array(file)\n",
    "    ar=ar/255\n",
    "    a=[]\n",
    "    a.append(ar)\n",
    "    a=np.array(a)\n",
    "    score=model.predict(a,verbose=1)\n",
    "    print(score)\n",
    "    label_index=np.argmax(score)\n",
    "    print(label_index)\n",
    "    acc=np.max(score)\n",
    "    profile=get_profile_name(label_index)\n",
    "    print(profile)\n",
    "    print(\"The predicted profile is a \"+profile+\" with accuracy =    \"+str(acc))    "
   ]
  },
  {
   "cell_type": "markdown",
   "metadata": {},
   "source": [
    "## Predicting Very poor road"
   ]
  },
  {
   "cell_type": "code",
   "execution_count": 13,
   "metadata": {},
   "outputs": [],
   "source": [
    "pre_image = \"../input/road-damage-classification-and-assessment/sih_road_dataset/very_poor/verypoor_003.jpg\""
   ]
  },
  {
   "cell_type": "code",
   "execution_count": 15,
   "metadata": {},
   "outputs": [
    {
     "name": "stdout",
     "output_type": "stream",
     "text": [
      "Predicting .................................\n",
      "1/1 [==============================] - 0s 27ms/step\n",
      "[[9.9607343e-03 1.6857452e-04 3.9465725e-05 9.8983127e-01]]\n",
      "3\n",
      "Very_Poor\n",
      "The predicted profile is a Very_Poor with accuracy =    0.98983127\n"
     ]
    }
   ],
   "source": [
    "predict_profile(pre_image)"
   ]
  },
  {
   "cell_type": "markdown",
   "metadata": {},
   "source": [
    "## Predicting Good road"
   ]
  },
  {
   "cell_type": "code",
   "execution_count": 16,
   "metadata": {},
   "outputs": [
    {
     "name": "stdout",
     "output_type": "stream",
     "text": [
      "Predicting .................................\n",
      "1/1 [==============================] - 0s 19ms/step\n",
      "[[9.9992549e-01 3.2196134e-05 6.9833669e-07 4.1655156e-05]]\n",
      "0\n",
      "Good\n",
      "The predicted profile is a Good with accuracy =    0.9999255\n"
     ]
    }
   ],
   "source": [
    "pre_image2 = \"../input/road-damage-classification-and-assessment/sih_road_dataset/good/good_027.JPG\"\n",
    "predict_profile(pre_image2)"
   ]
  },
  {
   "cell_type": "markdown",
   "metadata": {},
   "source": [
    "## Predicting Satisfactory road"
   ]
  },
  {
   "cell_type": "code",
   "execution_count": 17,
   "metadata": {},
   "outputs": [
    {
     "name": "stdout",
     "output_type": "stream",
     "text": [
      "Predicting .................................\n",
      "1/1 [==============================] - 0s 19ms/step\n",
      "[[2.6457256e-04 1.6629417e-01 8.3094096e-01 2.5004130e-03]]\n",
      "2\n",
      "Satisfactory\n",
      "The predicted profile is a Satisfactory with accuracy =    0.83094096\n"
     ]
    }
   ],
   "source": [
    "pre_image3 = \"../input/road-damage-classification-and-assessment/sih_road_dataset/satisfactory/satis_030.jpg\"\n",
    "predict_profile(pre_image3)"
   ]
  },
  {
   "cell_type": "markdown",
   "metadata": {},
   "source": [
    "Note: in this data poor roads and satisfactory road are very similar to each other thats why model wont be able to predict or differentiate between those two images."
   ]
  }
 ],
 "metadata": {
  "kernelspec": {
   "display_name": "Python 3",
   "language": "python",
   "name": "python3"
  },
  "language_info": {
   "codemirror_mode": {
    "name": "ipython",
    "version": 3
   },
   "file_extension": ".py",
   "mimetype": "text/x-python",
   "name": "python",
   "nbconvert_exporter": "python",
   "pygments_lexer": "ipython3",
   "version": "3.8.8"
  }
 },
 "nbformat": 4,
 "nbformat_minor": 4
}
