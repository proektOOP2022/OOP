{
 "cells": [
  {
   "cell_type": "code",
   "execution_count": 3,
   "id": "61dca060",
   "metadata": {},
   "outputs": [],
   "source": [
    "import numpy as np\n",
    "import imgaug.augmenters as iaa\n",
    "\n",
    "def load_batch(batch_idx):\n",
    "    # dummy function, implement this\n",
    "    # Return a numpy array of shape (N, height, width, #channels)\n",
    "    # or a list of (height, width, #channels) arrays (may have different image\n",
    "    # sizes).\n",
    "    # Images should be in RGB for colorspace augmentations.\n",
    "    # (cv2.imread() returns BGR!)\n",
    "    # Images should usually be in uint8 with values from 0-255.\n",
    "    return np.zeros((128, 32, 32, 3), dtype=np.uint8) + (batch_idx % 255)\n",
    "\n",
    "def train_on_images(images):\n",
    "    # dummy function, implement this\n",
    "    pass\n",
    "\n",
    "# Pipeline:\n",
    "# (1) Crop images from each side by 1-16px, do not resize the results\n",
    "#     images back to the input size. Keep them at the cropped size.\n",
    "# (2) Horizontally flip 50% of the images.\n",
    "# (3) Blur images using a gaussian kernel with sigma between 0.0 and 3.0.\n",
    "seq = iaa.Sequential([\n",
    "    iaa.Crop(px=(1, 16), keep_size=False),\n",
    "    iaa.Fliplr(0.5),\n",
    "    iaa.GaussianBlur(sigma=(0, 3.0))\n",
    "])\n"
   ]
  },
  {
   "cell_type": "code",
   "execution_count": 4,
   "id": "3fd6c34e",
   "metadata": {},
   "outputs": [],
   "source": [
    "batc_idx = \"../../../Untitled Folder/data/kostroma\"\n",
    "\n",
    "for batch_idx in range(100):\n",
    "    images = load_batch(batch_idx)\n",
    "    images_aug = seq(images=images)  # done by the library\n",
    "    train_on_images(images_aug)"
   ]
  },
  {
   "cell_type": "code",
   "execution_count": null,
   "id": "ae59209b",
   "metadata": {},
   "outputs": [],
   "source": []
  }
 ],
 "metadata": {
  "kernelspec": {
   "display_name": "Python 3",
   "language": "python",
   "name": "python3"
  },
  "language_info": {
   "codemirror_mode": {
    "name": "ipython",
    "version": 3
   },
   "file_extension": ".py",
   "mimetype": "text/x-python",
   "name": "python",
   "nbconvert_exporter": "python",
   "pygments_lexer": "ipython3",
   "version": "3.8.8"
  }
 },
 "nbformat": 4,
 "nbformat_minor": 5
}
