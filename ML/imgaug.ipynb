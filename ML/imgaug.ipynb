{
 "cells": [
  {
   "cell_type": "code",
   "execution_count": 5,
   "id": "dd0f6c73",
   "metadata": {},
   "outputs": [],
   "source": [
    "import imageio\n",
    "import imgaug as ia\n",
    "import imgaug.augmenters as iaa\n",
    "from imgaug.augmentables.bbs import BoundingBox, BoundingBoxesOnImage\n",
    "from PIL import Image\n",
    "import numpy as np\n",
    "%matplotlib inline\n",
    "ia.seed(1)\n"
   ]
  },
  {
   "cell_type": "code",
   "execution_count": 32,
   "id": "41dffcac",
   "metadata": {},
   "outputs": [],
   "source": [
    "def augmentation_Affine(name,image,bbs):\n",
    "    image_points = np.copy(image)\n",
    "    \n",
    "\n",
    "    aug = iaa.Affine(rotate=30)\n",
    "    image_points_aug, bbs_aug = aug(image=image_points, bounding_boxes=bbs)\n",
    "    im = Image.fromarray(image_points_aug)\n",
    "    im.save(f\"content/road/train/{name}_Affine.jpeg\")\n",
    "    return bbs_aug\n",
    "    \n",
    "\n",
    "def augmentation_Fliplr(name,image,bbs):\n",
    "    image_points = np.copy(image)\n",
    "#     colors = [(0, 0, 0), (0, 0, 0)]\n",
    "#     for bb, color in zip(bbs.bounding_boxes, colors):\n",
    "#         image_points[bb.y1_int:bb.y2_int:4, bb.x1_int:bb.x2_int:4] = color\n",
    "\n",
    "    aug = iaa.Fliplr(1)\n",
    "    image_points_aug, bbs_aug = aug(image=image_points, bounding_boxes=bbs) \n",
    "    \n",
    "    im = Image.fromarray(image_points_aug)\n",
    "    im.save(f\"content/road/train/{name}_Flipr.jpeg\")\n",
    "    return bbs_aug\n",
    "\n",
    "def augmentation_Flipud(name,image,bbs):\n",
    "    image_points = np.copy(image)\n",
    "#     colors = [(0, 0, 0), (0, 0, 0)]\n",
    "#     for bb, color in zip(bbs.bounding_boxes, colors):\n",
    "#         image_points[bb.y1_int:bb.y2_int:4, bb.x1_int:bb.x2_int:4] = color\n",
    "\n",
    "    aug = iaa.Flipud(1)\n",
    "    image_points_aug, bbs_aug = aug(image=image_points, bounding_boxes=bbs)      \n",
    "\n",
    "    im = Image.fromarray(image_points_aug)\n",
    "    im.save(f\"content/road/train/{name}_Flipud.jpeg\")\n",
    "    return bbs_aug"
   ]
  },
  {
   "cell_type": "code",
   "execution_count": 33,
   "id": "dee23f17",
   "metadata": {},
   "outputs": [],
   "source": [
    "def augmentation_ElasticTransformation(name,image,bbs):\n",
    "    image_points = np.copy(image)\n",
    "    \n",
    "\n",
    "    aug = iaa.ElasticTransformation(alpha=(0, 5.0), sigma=0.25)\n",
    "    image_points_aug, bbs_aug = aug(image=image_points, bounding_boxes=bbs)\n",
    "\n",
    "    im = Image.fromarray(image_points_aug)\n",
    "    im.save(f\"content/road/train/{name}_ElasticTransformation.jpeg\")\n",
    "    return bbs_aug\n",
    "    \n",
    "    \n",
    "def augmentation_ShearX(name,image,bbs):\n",
    "    image_points = np.copy(image)\n",
    "#     colors = [(0, 0, 0), (0, 0, 0)]\n",
    "#     for bb, color in zip(bbs.bounding_boxes, colors):\n",
    "#         image_points[bb.y1_int:bb.y2_int:4, bb.x1_int:bb.x2_int:4] = color\n",
    "\n",
    "    aug = iaa.ShearX((-50, 50))\n",
    "    image_points_aug, bbs_aug = aug(image=image_points, bounding_boxes=bbs)    \n",
    "    \n",
    "    im = Image.fromarray(image_points_aug)\n",
    "    im.save(f\"content/road/train/{name}_ShearX.jpeg\")\n",
    "    return bbs_aug\n",
    "\n",
    "def augmentation_TranslateY(name,image,bbs):\n",
    "    image_points = np.copy(image)\n",
    "#     colors = [(0, 0, 0), (0, 0, 0)]\n",
    "#     for bb, color in zip(bbs.bounding_boxes, colors):\n",
    "#         image_points[bb.y1_int:bb.y2_int:4, bb.x1_int:bb.x2_int:4] = color\n",
    "\n",
    "    aug = iaa.TranslateY(px=(-50, 50))\n",
    "    image_points_aug, bbs_aug = aug(image=image_points, bounding_boxes=bbs)    \n",
    "    \n",
    "    im = Image.fromarray(image_points_aug)\n",
    "    im.save(f\"content/road/train/{name}_TranslateY.jpeg\")\n",
    "    return bbs_aug"
   ]
  },
  {
   "cell_type": "code",
   "execution_count": 34,
   "id": "d2d4edd2",
   "metadata": {},
   "outputs": [],
   "source": [
    "def augmentation_blur(name,image,bbs):\n",
    "    image_points = np.copy(image)\n",
    "#     colors = [(0, 0, 0), (0, 0, 0)]\n",
    "#     for bb, color in zip(bbs.bounding_boxes, colors):\n",
    "#         image_points[bb.y1_int:bb.y2_int:4, bb.x1_int:bb.x2_int:4] = color\n",
    "\n",
    "    aug = iaa.MedianBlur(k=(3, 11))\n",
    "    image_points_aug, bbs_aug = aug(image=image_points, bounding_boxes=bbs)\n",
    "\n",
    "    im = Image.fromarray(image_points_aug)\n",
    "    im.save(f\"content/road/train/{name}_blur.jpeg\")\n",
    "    return bbs_aug\n",
    "    \n",
    "    \n",
    "def augmentation_Snowy(name,image,bbs):\n",
    "    image_points = np.copy(image)\n",
    "#     colors = [(0, 0, 0), (0, 0, 0)]\n",
    "#     for bb, color in zip(bbs.bounding_boxes, colors):\n",
    "#         image_points[bb.y1_int:bb.y2_int:4, bb.x1_int:bb.x2_int:4] = color\n",
    "\n",
    "    aug = iaa.FastSnowyLandscape(\n",
    "    lightness_threshold=(100, 255),\n",
    "    lightness_multiplier=(0.3, 1.5)\n",
    ")\n",
    "    image_points_aug, bbs_aug = aug(image=image_points, bounding_boxes=bbs)    \n",
    "    \n",
    "    im = Image.fromarray(image_points_aug)\n",
    "    im.save(f\"content/road/train/{name}_Snowy.jpeg\")\n",
    "    return bbs_aug\n",
    "\n",
    "def augmentation_Rain(name,image,bbs):\n",
    "    image_points = np.copy(image)\n",
    "#     colors = [(0, 0, 0), (0, 0, 0)]\n",
    "#     for bb, color in zip(bbs.bounding_boxes, colors):\n",
    "#         image_points[bb.y1_int:bb.y2_int:4, bb.x1_int:bb.x2_int:4] = color\n",
    "\n",
    "    aug = iaa.Rain(speed=(0.5, 0.8))\n",
    "    image_points_aug, bbs_aug = aug(image=image_points, bounding_boxes=bbs)    \n",
    "    \n",
    "    im = Image.fromarray(image_points_aug)\n",
    "    im.save(f\"content/road/train/{name}_Rain.jpeg\")\n",
    "    return bbs_aug"
   ]
  },
  {
   "cell_type": "code",
   "execution_count": 35,
   "id": "73318efe",
   "metadata": {},
   "outputs": [],
   "source": [
    "def augmentation_Fog(name,image,bbs):\n",
    "    image_points = np.copy(image)\n",
    "    \n",
    "\n",
    "    aug = iaa.Fog()\n",
    "    image_points_aug, bbs_aug = aug(image=image_points, bounding_boxes=bbs)\n",
    "\n",
    "    im = Image.fromarray(image_points_aug)\n",
    "    im.save(f\"content/road/train/{name}_Fog.jpeg\")\n",
    "    return bbs_aug\n",
    "\n",
    "def augmentation_Clouds(name,image,bbs):\n",
    "    image_points = np.copy(image)\n",
    "    \n",
    "\n",
    "    aug = iaa.Clouds()\n",
    "    image_points_aug, bbs_aug = aug(image=image_points, bounding_boxes=bbs)\n",
    "\n",
    "    im = Image.fromarray(image_points_aug)\n",
    "    im.save(f\"content/road/train/{name}_Fog.jpeg\")\n",
    "    return bbs_aug\n"
   ]
  },
  {
   "cell_type": "code",
   "execution_count": 13,
   "id": "ad74ba9d",
   "metadata": {},
   "outputs": [],
   "source": [
    "def filters(name,image,bbs):\n",
    "    filter = [augmentation_Affine,augmentation_ElasticTransformation,augmentation_Fliplr,augmentation_Flipud,augmentation_ShearX,augmentation_TranslateY,augmentation_blur\n",
    "         ,augmentation_Rain,augmentation_Snowy, augmentation_Fog, augmentation_Clouds]\n",
    "    kd = []\n",
    "    for el in filter:\n",
    "        t = el(name,image,bbs)\n",
    "        kd.append(t)\n",
    "    return "
   ]
  },
  {
   "cell_type": "code",
   "execution_count": 17,
   "id": "1ffb6353",
   "metadata": {},
   "outputs": [],
   "source": [
    "for el in filter:\n",
    "    t = el(name,image,bbs)\n",
    "    kd.append(t)"
   ]
  },
  {
   "cell_type": "code",
   "execution_count": 19,
   "id": "85f1dc36",
   "metadata": {},
   "outputs": [],
   "source": [
    "import json\n",
    "with open(\"content/road/train/_annotations.coco.json\") as file:\n",
    "    annotations = json.load(file)"
   ]
  },
  {
   "cell_type": "code",
   "execution_count": 21,
   "id": "1ce48501",
   "metadata": {},
   "outputs": [
    {
     "data": {
      "text/plain": [
       "dict_keys(['info', 'licenses', 'categories', 'images', 'annotations'])"
      ]
     },
     "execution_count": 21,
     "metadata": {},
     "output_type": "execute_result"
    }
   ],
   "source": [
    "annotations.keys()"
   ]
  },
  {
   "cell_type": "code",
   "execution_count": 22,
   "id": "5e7c58f3",
   "metadata": {},
   "outputs": [
    {
     "data": {
      "text/plain": [
       "[{'id': 1, 'url': '', 'name': 'ODbL v1.0'}]"
      ]
     },
     "execution_count": 22,
     "metadata": {},
     "output_type": "execute_result"
    }
   ],
   "source": [
    "annotations['licenses']"
   ]
  },
  {
   "cell_type": "code",
   "execution_count": null,
   "id": "7ed5b1a4",
   "metadata": {},
   "outputs": [],
   "source": [
    "annotations['annotations']"
   ]
  },
  {
   "cell_type": "code",
   "execution_count": null,
   "id": "6b7c8c4c",
   "metadata": {},
   "outputs": [],
   "source": [
    "for el in annotations['images']:\n",
    "    image_id = el['id']\n",
    "    name = el['file_name']\n",
    "    image = imageio.imread(f\"content/road/train/{name}\")\n",
    "    for elem in annotations['annotations']:\n",
    "        if elem['image_id']==image_id:\n",
    "            bbox = elem['bbox']\n",
    "            bbs = BoundingBoxesOnImage([\n",
    "                BoundingBox(x1=bbox[0], x2=bbox[0]+bbos[2], y1=bbox[1], y2=bbox[1]+bbos[3])             \n",
    "            ], shape=image.shape)\n",
    "            kd = filter(image,name,bbs)\n",
    "            # добавляем новые данные в json-файл\n",
    "            #..."
   ]
  }
 ],
 "metadata": {
  "kernelspec": {
   "display_name": "Python 3",
   "language": "python",
   "name": "python3"
  },
  "language_info": {
   "codemirror_mode": {
    "name": "ipython",
    "version": 3
   },
   "file_extension": ".py",
   "mimetype": "text/x-python",
   "name": "python",
   "nbconvert_exporter": "python",
   "pygments_lexer": "ipython3",
   "version": "3.8.8"
  }
 },
 "nbformat": 4,
 "nbformat_minor": 5
}
